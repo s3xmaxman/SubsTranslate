{
 "cells": [
  {
   "cell_type": "code",
   "execution_count": null,
   "metadata": {},
   "outputs": [],
   "source": [
    "# whisperインストール\n",
    "!pip install git+https://github.com/openai/whisper.git \n",
    "!pip install openai "
   ]
  },
  {
   "cell_type": "code",
   "execution_count": null,
   "metadata": {},
   "outputs": [],
   "source": [
    "import subprocess\n",
    "import openai\n",
    "\n",
    "# # 音声データ抽出\n",
    "subprocess.run(['ffmpeg', '-i', 'test.mp4', '-acodec', 'libmp3lame', '-ab', '256k', 'audio.mp3'])\n",
    "\n",
    "# # Whisper実行\n",
    "subprocess.run(['whisper', 'audio.mp3', '--model', 'medium'])\n",
    "\n",
    "with open('audio.srt', 'r', encoding='utf-8') as file:\n",
    "    srt_data = file.read()\n",
    "\n",
    "# gpt-3.5-turboで翻訳\n",
    "openai.api_key = 'your_api_key'\n",
    "completions = openai.ChatCompletion.create(\n",
    "    model=\"gpt-3.5-turbo\",\n",
    "    messages=[\n",
    "        {\"role\": \"user\", \"content\": f\"[以下の英文をsrt形式を維持して翻訳してください]:\\n{srt_data}\"}\n",
    "    ],\n",
    ")\n",
    "\n",
    "srt_text = completions[\"choices\"][0][\"message\"][\"content\"]\n",
    "\n",
    "#　改行関数\n",
    "def add_line_breaks_srt(srt_text):\n",
    "    lines = srt_text.split(\"\\n\")\n",
    "    result = \"\"\n",
    "\n",
    "    for i, line in enumerate(lines):\n",
    "        if line.strip().isdigit():\n",
    "            result += line \n",
    "        elif \"-->\" in line:\n",
    "            result += line \n",
    "        else:\n",
    "            result += add_line_breaks(line) + \"\\n\"\n",
    "\n",
    "        # 空行を追加\n",
    "        if i < len(lines) - 1 and lines[i + 1] != \"\" and line != \"\":\n",
    "            result += \"\\n\"\n",
    "\n",
    "    return result.strip()\n",
    "\n",
    "def add_line_breaks(text):\n",
    "    result = \"\"\n",
    "    line_length = 0\n",
    "\n",
    "    for char in text:\n",
    "        if char == \"、\" and line_length >= 7:\n",
    "            result += \"\\n\"\n",
    "            line_length = 0\n",
    "        elif char == \"。\":\n",
    "            result += \"\\n\"\n",
    "            line_length = 0\n",
    "        else:\n",
    "            result += char\n",
    "            line_length += 1\n",
    "\n",
    "    return result\n",
    "\n",
    "# 改行されたテキストを取得\n",
    "result = add_line_breaks_srt(srt_text)\n",
    "# ファイルに書き込む\n",
    "with open(\"output.srt\", \"w\", encoding='utf-8') as file:\n",
    "    file.write(result)\n",
    "\n",
    "print(result)\n",
    "print(\"ファイルに書き込みました。\")\n",
    "\n",
    "\n",
    "# 字幕動画生成\n",
    "subprocess.run(['ffmpeg', '-i', 'test.mp4', '-vf', \"subtitles=output.srt:force_style='FontName=Helvetica,FontSize=6'\", 'test_subtitle.mp4'])"
   ]
  },
  {
   "cell_type": "code",
   "execution_count": 33,
   "metadata": {},
   "outputs": [
    {
     "data": {
      "text/plain": [
       "CompletedProcess(args=['ffmpeg', '-i', 'test.mp4', '-vf', \"subtitles=output.srt:force_style='FontName=Helvetica,FontSize=6'\", 'test_subtitle_bard.mp4'], returncode=0)"
      ]
     },
     "execution_count": 33,
     "metadata": {},
     "output_type": "execute_result"
    }
   ],
   "source": [
    "# 字幕動画生成\n",
    "subprocess.run(['ffmpeg', '-i', 'test.mp4', '-vf', \"subtitles=output.srt:force_style='FontName=Helvetica,FontSize=6'\", 'test_subtitle_bard.mp4'])"
   ]
  }
 ],
 "metadata": {
  "kernelspec": {
   "display_name": "Python 3",
   "language": "python",
   "name": "python3"
  },
  "language_info": {
   "codemirror_mode": {
    "name": "ipython",
    "version": 3
   },
   "file_extension": ".py",
   "mimetype": "text/x-python",
   "name": "python",
   "nbconvert_exporter": "python",
   "pygments_lexer": "ipython3",
   "version": "3.10.10"
  },
  "orig_nbformat": 4
 },
 "nbformat": 4,
 "nbformat_minor": 2
}
